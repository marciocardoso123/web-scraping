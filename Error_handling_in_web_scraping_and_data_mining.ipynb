{
  "nbformat": 4,
  "nbformat_minor": 0,
  "metadata": {
    "colab": {
      "name": "Error handling in web scraping and data mining.ipynb",
      "provenance": [],
      "authorship_tag": "ABX9TyOCB3BP1aPzrgkoORPyaSkp",
      "include_colab_link": true
    },
    "kernelspec": {
      "name": "python3",
      "display_name": "Python 3"
    },
    "language_info": {
      "name": "python"
    }
  },
  "cells": [
    {
      "cell_type": "markdown",
      "metadata": {
        "id": "view-in-github",
        "colab_type": "text"
      },
      "source": [
        "<a href=\"https://colab.research.google.com/github/marciocardoso123/web-scraping/blob/main/Error_handling_in_web_scraping_and_data_mining.ipynb\" target=\"_parent\"><img src=\"https://colab.research.google.com/assets/colab-badge.svg\" alt=\"Open In Colab\"/></a>"
      ]
    },
    {
      "cell_type": "code",
      "execution_count": null,
      "metadata": {
        "id": "_H75a4OtgwEP"
      },
      "outputs": [],
      "source": [
        "\n",
        "#Tratamento de Erros em um Web Scraping\n",
        "\n",
        "from urllib.request import urlopen #busca urls\n",
        "from urllib.error import HTTPError, URLError  #trata erros\n",
        "from bs4 import BeautifulSoup\n",
        "#ERROS ANTES DE ACESSAR A PAGINA\n",
        "def getTitulo(url):\n",
        "    try:\n",
        "        html = urlopen(url)\n",
        "    except HTTPError as erro:# 404, 500 servidor n encotrado\n",
        "        print(f\"Ocorreu um erro HTTP: {erro}\")\n",
        "        return None\n",
        "    except URLError as erro:# 100,110 qnd n existe servidor \n",
        "        print(f\"Ocorreu um erro de URL: {erro}\")\n",
        "        return None\n",
        "    except:                 #não encontrado o q foi procurado\n",
        "        print(f\"Ocorreu um erro ao acessar a página.\")\n",
        "        return None\n",
        "#ERROS DEPOIS DE ENTRAR NA PAGINA\n",
        "    try:\n",
        "        bsObj = BeautifulSoup(html.read(), \"html.parser\")\n",
        "        titulo = bsObj.find_all(\"a\")#Todos os liks da pagina\n",
        "    except AttributeError as erro:#atribute error tag n existe\n",
        "        print(f\"Ocorreu um erro ao acessar o atributo.\")\n",
        "        return None\n",
        "    except:\n",
        "        print(f\"Ocorreu um erro ao acessar os atributos.\")\n",
        "        return None\n",
        "\n",
        "    return titulo\n",
        "\n",
        "titulo = getTitulo(input(\"Informe a URL: \"))\n",
        "\n",
        "if titulo is None:\n",
        "    print(\"Título não encontrado.\")\n",
        "else:\n",
        "    print(titulo)"
      ]
    }
  ]
}